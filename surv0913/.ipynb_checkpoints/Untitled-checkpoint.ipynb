{
 "cells": [
  {
   "cell_type": "code",
   "execution_count": 4,
   "id": "parallel-charger",
   "metadata": {},
   "outputs": [
    {
     "name": "stdout",
     "output_type": "stream",
     "text": [
      "usage: run_surv.py [-h] [--n_trials N_TRIALS] [--model MODEL]\n",
      "                   [--dataset DATASET] [--feature FEATURE] [--cancer CANCER]\n",
      "                   [--second_feature SECOND_FEATURE] [--imputation IMPUTATION]\n",
      "                   [--by_sex BY_SEX] [--test_rate TEST_RATE]\n",
      "                   [--target_cancer TARGET_CANCER] [--batch_size BATCH_SIZE]\n",
      "                   [--n_epochs N_EPOCHS] [--tasks TASKS [TASKS ...]]\n",
      "\n",
      "Evaluate survival analysis models\n",
      "\n",
      "optional arguments:\n",
      "  -h, --help            show this help message and exit\n",
      "  --n_trials N_TRIALS   number of trials\n",
      "  --model MODEL         surival model name, default cox, {cox, deepsurv,\n",
      "                        deephit, lstm, mtl_lstm}\n",
      "  --dataset DATASET     data file\n",
      "  --feature FEATURE     feature file\n",
      "  --cancer CANCER       cancer file\n",
      "  --second_feature SECOND_FEATURE\n",
      "                        apply second feature\n",
      "  --imputation IMPUTATION\n",
      "                        imputation method: mean, median, regression\n",
      "  --by_sex BY_SEX       appply group by with sex\n",
      "  --test_rate TEST_RATE\n",
      "                        the rate of testset\n",
      "  --target_cancer TARGET_CANCER\n",
      "                        target cancer to analyze\n",
      "  --batch_size BATCH_SIZE\n",
      "                        batch size\n",
      "  --n_epochs N_EPOCHS   number of epochs\n",
      "  --tasks TASKS [TASKS ...]\n",
      "                        different cancers for multitask model\n"
     ]
    }
   ],
   "source": [
    "%run run_surv --help"
   ]
  },
  {
   "cell_type": "code",
   "execution_count": 1,
   "id": "connected-concern",
   "metadata": {},
   "outputs": [],
   "source": [
    "# %run run_surv --dataset dataset/test.csv --feature dataset/features.txt --cancer dataset/cancers.txt --imputation median --test_rate 0.2 --target_cancer thyroid --model lstm --batch_size 32 --n_epochs 10 --n_trials 5"
   ]
  },
  {
   "cell_type": "code",
   "execution_count": 11,
   "id": "scientific-edwards",
   "metadata": {},
   "outputs": [
    {
     "name": "stdout",
     "output_type": "stream",
     "text": [
      "start 1th trial\n",
      "Namespace(batch_size=256, by_sex=True, cancer='dataset/cancers.txt', dataset='dataset/test.csv', feature='dataset/features.txt', imputation='regression', model='cox', n_epochs=10, n_trials=5, second_feature=True, target_cancer='thyroid', test_rate=0.2) \ttrain: 0.7310747504922263 test: 0.6635897435897435\n",
      "start 2th trial\n",
      "Namespace(batch_size=256, by_sex=True, cancer='dataset/cancers.txt', dataset='dataset/test.csv', feature='dataset/features.txt', imputation='regression', model='cox', n_epochs=10, n_trials=5, second_feature=True, target_cancer='thyroid', test_rate=0.2) \ttrain: 0.6671419195691041 test: 0.39076923076923076\n",
      "start 3th trial\n",
      "Namespace(batch_size=256, by_sex=True, cancer='dataset/cancers.txt', dataset='dataset/test.csv', feature='dataset/features.txt', imputation='regression', model='cox', n_epochs=10, n_trials=5, second_feature=True, target_cancer='thyroid', test_rate=0.2) \ttrain: 0.7113630705863716 test: 0.7897435897435897\n",
      "start 4th trial\n",
      "Namespace(batch_size=256, by_sex=True, cancer='dataset/cancers.txt', dataset='dataset/test.csv', feature='dataset/features.txt', imputation='regression', model='cox', n_epochs=10, n_trials=5, second_feature=True, target_cancer='thyroid', test_rate=0.2) \ttrain: 0.7317310521194016 test: 0.39384615384615385\n",
      "start 5th trial\n",
      "Namespace(batch_size=256, by_sex=True, cancer='dataset/cancers.txt', dataset='dataset/test.csv', feature='dataset/features.txt', imputation='regression', model='cox', n_epochs=10, n_trials=5, second_feature=True, target_cancer='thyroid', test_rate=0.2) \ttrain: 0.7683028945164867 test: 0.5312820512820513\n"
     ]
    }
   ],
   "source": [
    "%run run_surv --dataset dataset/test.csv --feature dataset/features.txt --cancer dataset/cancers.txt --imputation regression --test_rate 0.2 --target_cancer thyroid --n_trials 5"
   ]
  },
  {
   "cell_type": "code",
   "execution_count": 1,
   "id": "fitted-harvey",
   "metadata": {},
   "outputs": [
    {
     "name": "stdout",
     "output_type": "stream",
     "text": [
      "start 1th trial\n",
      "Namespace(batch_size=256, by_sex=True, cancer='dataset/cancers.txt', dataset='dataset/test.csv', feature='dataset/features.txt', imputation='regression', model='cox', n_epochs=10, n_trials=5, second_feature=True, target_cancer='thyroid', tasks=None, test_rate=0.2) \ttrain: 0.706197028777674 test: 0.1518987341772152\n",
      "start 2th trial\n",
      "Namespace(batch_size=256, by_sex=True, cancer='dataset/cancers.txt', dataset='dataset/test.csv', feature='dataset/features.txt', imputation='regression', model='cox', n_epochs=10, n_trials=5, second_feature=True, target_cancer='thyroid', tasks=None, test_rate=0.2) \ttrain: 0.6642873255776481 test: 0.6508438818565401\n",
      "start 3th trial\n",
      "Namespace(batch_size=256, by_sex=True, cancer='dataset/cancers.txt', dataset='dataset/test.csv', feature='dataset/features.txt', imputation='regression', model='cox', n_epochs=10, n_trials=5, second_feature=True, target_cancer='thyroid', tasks=None, test_rate=0.2) \ttrain: 0.7361509458283652 test: 0.5886075949367089\n",
      "start 4th trial\n",
      "Namespace(batch_size=256, by_sex=True, cancer='dataset/cancers.txt', dataset='dataset/test.csv', feature='dataset/features.txt', imputation='regression', model='cox', n_epochs=10, n_trials=5, second_feature=True, target_cancer='thyroid', tasks=None, test_rate=0.2) \ttrain: 0.7213753987947537 test: 0.6065400843881856\n",
      "start 5th trial\n",
      "Namespace(batch_size=256, by_sex=True, cancer='dataset/cancers.txt', dataset='dataset/test.csv', feature='dataset/features.txt', imputation='regression', model='cox', n_epochs=10, n_trials=5, second_feature=True, target_cancer='thyroid', tasks=None, test_rate=0.2) \ttrain: 0.6925493860977732 test: 0.6940928270042194\n"
     ]
    }
   ],
   "source": [
    "%run run_surv --dataset dataset/test.csv --feature dataset/features.txt --cancer dataset/cancers.txt --imputation regression --test_rate 0.2 --target_cancer thyroid --n_trials 5"
   ]
  },
  {
   "cell_type": "code",
   "execution_count": 2,
   "id": "dedicated-farmer",
   "metadata": {},
   "outputs": [
    {
     "data": {
      "text/plain": [
       "device(type='cuda')"
      ]
     },
     "execution_count": 2,
     "metadata": {},
     "output_type": "execute_result"
    }
   ],
   "source": [
    "device = torch.device(\"cuda\" if torch.cuda.is_available() else \"cpu\")\n",
    "device"
   ]
  },
  {
   "cell_type": "code",
   "execution_count": 3,
   "id": "paperback-sweet",
   "metadata": {},
   "outputs": [
    {
     "name": "stdout",
     "output_type": "stream",
     "text": [
      "start 1th trial\n",
      "Train C-index for event 1 :  0.8869034191614836\n",
      "Test C-index for event 1 :  0.9483122362869199\n",
      "start 2th trial\n",
      "Train C-index for event 1 :  0.8856546679127324\n",
      "Test C-index for event 1 :  0.9546413502109705\n",
      "start 3th trial\n",
      "Train C-index for event 1 :  0.8806596629177275\n",
      "Test C-index for event 1 :  0.9493670886075949\n",
      "start 4th trial\n",
      "Train C-index for event 1 :  0.889908478618156\n",
      "Test C-index for event 1 :  0.9514767932489452\n",
      "start 5th trial\n",
      "Train C-index for event 1 :  0.8944523218716767\n",
      "Test C-index for event 1 :  0.9715189873417721\n"
     ]
    }
   ],
   "source": [
    "\n",
    "%run run_surv --dataset dataset/test.csv --feature dataset/features.txt --cancer dataset/cancers.txt --imputation mean --test_rate 0.2 --target_cancer thyroid --model lstm --batch_size 32 --n_epochs 1 --n_trials 5"
   ]
  },
  {
   "cell_type": "code",
   "execution_count": 2,
   "id": "artistic-delay",
   "metadata": {},
   "outputs": [
    {
     "name": "stdout",
     "output_type": "stream",
     "text": [
      "start 1th trial\n",
      "Train C-index for event  1 :  0.5542529391844695\n",
      "Test C-index for event  1 :  0.49040259434529965\n",
      "Train C-index for event  2 :  0.6428619639812002\n",
      "Test C-index for event  2 :  0.5030433559725633\n",
      "Train C-index for event  3 :  0.5479481375018675\n",
      "Test C-index for event  3 :  0.5060281370449974\n",
      "Train C-index for event  4 :  0.6641997206333574\n",
      "Test C-index for event  4 :  0.49545825874010563\n",
      "Train C-index for event  5 :  0.7839696850502254\n",
      "Test C-index for event  5 :  0.4935239665758684\n",
      "start 2th trial\n",
      "Train C-index for event  1 :  0.558581003188905\n",
      "Test C-index for event  1 :  0.5011935394657557\n",
      "Train C-index for event  2 :  0.6448750413291827\n",
      "Test C-index for event  2 :  0.498162830032029\n",
      "Train C-index for event  3 :  0.5514332018456253\n",
      "Test C-index for event  3 :  0.4930102717407647\n",
      "Train C-index for event  4 :  0.6576070064337628\n",
      "Test C-index for event  4 :  0.4968230254115444\n",
      "Train C-index for event  5 :  0.7831664870390659\n",
      "Test C-index for event  5 :  0.47628496517332647\n"
     ]
    }
   ],
   "source": [
    "%run run_surv --dataset test.csv --feature dataset/features.txt --cancer dataset/cancers.txt --imputation mean --test_rate 0.2 --tasks thyroid STOMA breast CRC LUNG --model deephit --batch_size 32 --n_epochs 5 --n_trials 2"
   ]
  },
  {
   "cell_type": "code",
   "execution_count": null,
   "id": "documented-testing",
   "metadata": {},
   "outputs": [],
   "source": [
    "%run run_surv --dataset test.csv --feature dataset/features.txt --cancer dataset/cancers.txt --imputation mean --test_rate 0.2 --tasks thyroid STOMA breast LUNG prostate --model mtl_lstm --batch_size 512 --n_epochs 2 --n_trials 2"
   ]
  },
  {
   "cell_type": "code",
   "execution_count": 1,
   "id": "assisted-chassis",
   "metadata": {},
   "outputs": [
    {
     "name": "stdout",
     "output_type": "stream",
     "text": [
      "start 1th trial\n",
      "Train C-index for event  1 :  0.5471784632523571\n",
      "Test C-index for event  1 :  0.5592741998866054\n",
      "Train C-index for event  2 :  0.5710911706369326\n",
      "Test C-index for event  2 :  0.5840127625238425\n",
      "Train C-index for event  3 :  0.6968157005101128\n",
      "Test C-index for event  3 :  0.6798029045094741\n",
      "Train C-index for event  4 :  0.6887658916361714\n",
      "Test C-index for event  4 :  0.5938704075426563\n",
      "Train C-index for event  5 :  0.7903685021218\n",
      "Test C-index for event  5 :  0.7294493389341165\n",
      "start 2th trial\n",
      "Train C-index for event  1 :  0.5992792044424096\n",
      "Test C-index for event  1 :  0.547051114305093\n",
      "Train C-index for event  2 :  0.6504000743802606\n",
      "Test C-index for event  2 :  0.6005544466142169\n",
      "Train C-index for event  3 :  0.7598796307663539\n",
      "Test C-index for event  3 :  0.6315749659845525\n",
      "Train C-index for event  4 :  0.7305464094597492\n",
      "Test C-index for event  4 :  0.6533849520448698\n",
      "Train C-index for event  5 :  0.8487525907251761\n",
      "Test C-index for event  5 :  0.7226228752508178\n"
     ]
    }
   ],
   "source": [
    "%run run_surv --dataset test.csv --feature dataset/features.txt --cancer dataset/cancers.txt --imputation median --test_rate 0.2 --tasks thyroid STOMA breast LUNG prostate --model deephit --batch_size 512 --n_epochs 5 --n_trials 2"
   ]
  },
  {
   "cell_type": "code",
   "execution_count": 2,
   "id": "bizarre-therapist",
   "metadata": {},
   "outputs": [
    {
     "name": "stdout",
     "output_type": "stream",
     "text": [
      "start 1th trial\n",
      "Train C-index for event  1 :  0.6416216412865879\n",
      "Test C-index for event  1 :  0.5627721030912622\n",
      "Train C-index for event  2 :  0.7484630995246532\n",
      "Test C-index for event  2 :  0.5981212885436223\n",
      "Train C-index for event  3 :  0.8079938854186202\n",
      "Test C-index for event  3 :  0.6355337562241763\n",
      "Train C-index for event  4 :  0.8271766740594018\n",
      "Test C-index for event  4 :  0.6587353055730898\n",
      "Train C-index for event  5 :  0.8951150085987207\n",
      "Test C-index for event  5 :  0.706725454405224\n",
      "start 2th trial\n",
      "Train C-index for event  1 :  0.6586255987000911\n",
      "Test C-index for event  1 :  0.5676858324313477\n",
      "Train C-index for event  2 :  0.7450865451625212\n",
      "Test C-index for event  2 :  0.6239278718713177\n",
      "Train C-index for event  3 :  0.7931465841212572\n",
      "Test C-index for event  3 :  0.6409239067838209\n",
      "Train C-index for event  4 :  0.8298259319286053\n",
      "Test C-index for event  4 :  0.6512984230460698\n",
      "Train C-index for event  5 :  0.8836457439284235\n",
      "Test C-index for event  5 :  0.7473819506695875\n"
     ]
    }
   ],
   "source": [
    "%run run_surv --dataset test.csv --feature dataset/features.txt --cancer dataset/cancers.txt --imputation mean --test_rate 0.2 --tasks thyroid STOMA breast LUNG prostate --model deephit --batch_size 512 --n_epochs 5 --n_trials 2"
   ]
  },
  {
   "cell_type": "code",
   "execution_count": 3,
   "id": "identical-satin",
   "metadata": {},
   "outputs": [
    {
     "name": "stdout",
     "output_type": "stream",
     "text": [
      "start 1th trial\n",
      "Train C-index for event  1 :  0.6652602126353695\n",
      "Test C-index for event  1 :  0.5572937476971009\n",
      "Train C-index for event  2 :  0.7517244194337417\n",
      "Test C-index for event  2 :  0.6177820401382548\n",
      "Train C-index for event  3 :  0.8088288770768869\n",
      "Test C-index for event  3 :  0.7087243928281892\n",
      "Train C-index for event  4 :  0.8085797803312977\n",
      "Test C-index for event  4 :  0.6302118245564863\n",
      "Train C-index for event  5 :  0.8964414830338585\n",
      "Test C-index for event  5 :  0.7596983253947263\n",
      "start 2th trial\n",
      "Train C-index for event  1 :  0.669060136251652\n",
      "Test C-index for event  1 :  0.5823700177452217\n",
      "Train C-index for event  2 :  0.730651194970066\n",
      "Test C-index for event  2 :  0.6111318118495956\n",
      "Train C-index for event  3 :  0.8118764477805225\n",
      "Test C-index for event  3 :  0.6993926653040674\n",
      "Train C-index for event  4 :  0.8243672915254682\n",
      "Test C-index for event  4 :  0.7112187531879813\n",
      "Train C-index for event  5 :  0.8927796002347689\n",
      "Test C-index for event  5 :  0.7537830052261832\n"
     ]
    }
   ],
   "source": [
    "%run run_surv --dataset test.csv --feature dataset/features.txt --cancer dataset/cancers.txt --imputation regression --test_rate 0.2 --tasks thyroid STOMA breast LUNG prostate --model deephit --batch_size 512 --n_epochs 5 --n_trials 2"
   ]
  },
  {
   "cell_type": "code",
   "execution_count": 2,
   "id": "informal-provision",
   "metadata": {},
   "outputs": [
    {
     "name": "stdout",
     "output_type": "stream",
     "text": [
      "start 1th trial\n"
     ]
    },
    {
     "name": "stderr",
     "output_type": "stream",
     "text": [
      "GPU available: True (cuda), used: False\n",
      "TPU available: False, using: 0 TPU cores\n",
      "IPU available: False, using: 0 IPUs\n",
      "HPU available: False, using: 0 HPUs\n",
      "\n",
      "  | Name        | Type       | Params\n",
      "-------------------------------------------\n",
      "0 | rnn_models  | ModuleList | 1.6 K \n",
      "1 | output_func | Linear     | 6     \n",
      "-------------------------------------------\n",
      "1.6 K     Trainable params\n",
      "0         Non-trainable params\n",
      "1.6 K     Total params\n",
      "0.006     Total estimated model params size (MB)\n"
     ]
    },
    {
     "data": {
      "application/vnd.jupyter.widget-view+json": {
       "model_id": "",
       "version_major": 2,
       "version_minor": 0
      },
      "text/plain": [
       "Sanity Checking: 0it [00:00, ?it/s]"
      ]
     },
     "metadata": {},
     "output_type": "display_data"
    },
    {
     "data": {
      "application/vnd.jupyter.widget-view+json": {
       "model_id": "c75ae3f741fb43489a1d41eff012b69e",
       "version_major": 2,
       "version_minor": 0
      },
      "text/plain": [
       "Training: 0it [00:00, ?it/s]"
      ]
     },
     "metadata": {},
     "output_type": "display_data"
    },
    {
     "data": {
      "application/vnd.jupyter.widget-view+json": {
       "model_id": "",
       "version_major": 2,
       "version_minor": 0
      },
      "text/plain": [
       "Validation: 0it [00:00, ?it/s]"
      ]
     },
     "metadata": {},
     "output_type": "display_data"
    },
    {
     "name": "stderr",
     "output_type": "stream",
     "text": [
      "`Trainer.fit` stopped: `max_epochs=1` reached.\n"
     ]
    },
    {
     "data": {
      "application/vnd.jupyter.widget-view+json": {
       "model_id": "01c8822698704fd3b1cfe1f49dc0ff93",
       "version_major": 2,
       "version_minor": 0
      },
      "text/plain": [
       "Testing: 0it [00:00, ?it/s]"
      ]
     },
     "metadata": {},
     "output_type": "display_data"
    },
    {
     "data": {
      "application/vnd.jupyter.widget-view+json": {
       "model_id": "d2c446f45bbf443d9ac443821cfef772",
       "version_major": 2,
       "version_minor": 0
      },
      "text/plain": [
       "Testing: 0it [00:00, ?it/s]"
      ]
     },
     "metadata": {},
     "output_type": "display_data"
    },
    {
     "name": "stdout",
     "output_type": "stream",
     "text": [
      "Train c-index: [{'c-index': 0.8260353761542127}]\n",
      "Test c-index: [{'c-index': 0.8574627931528015}]\n"
     ]
    }
   ],
   "source": [
    "%run run_surv --dataset test.csv --feature dataset/features.txt --cancer dataset/cancers.txt --imputation mean --test_rate 0.2 --target_cancer thyroid --model pl_lstm --batch_size 512 --n_epochs 1 --n_trials 1"
   ]
  },
  {
   "cell_type": "code",
   "execution_count": 6,
   "id": "connected-vessel",
   "metadata": {},
   "outputs": [
    {
     "data": {
      "text/plain": [
       "1661744912.4554868"
      ]
     },
     "execution_count": 6,
     "metadata": {},
     "output_type": "execute_result"
    }
   ],
   "source": [
    "import time\n",
    "\n",
    "start = time.time()\n",
    "start"
   ]
  },
  {
   "cell_type": "code",
   "execution_count": 12,
   "id": "stylish-sword",
   "metadata": {},
   "outputs": [
    {
     "name": "stdout",
     "output_type": "stream",
     "text": [
      "start 1th trial\n",
      "Train C-index for event  1 :  0.9090867935461674\n",
      "Test C-index for event  1 :  0.9234499809813618\n",
      "Train C-index for event  2 :  0.9320352681851579\n",
      "Test C-index for event  2 :  0.8584699453551913\n"
     ]
    }
   ],
   "source": [
    "%run run_surv --dataset dataset/test.csv --feature dataset/features.txt --cancer dataset/cancers.txt --imputation mean --test_rate 0.2 --tasks thyroid STOMA --model mtl_lstm --batch_size 512 --n_epochs 1 --n_trials 1"
   ]
  },
  {
   "cell_type": "code",
   "execution_count": 9,
   "id": "normal-hungary",
   "metadata": {},
   "outputs": [
    {
     "data": {
      "text/plain": [
       "1661751902.432827"
      ]
     },
     "execution_count": 9,
     "metadata": {},
     "output_type": "execute_result"
    }
   ],
   "source": [
    "END = time.time()\n",
    "END"
   ]
  },
  {
   "cell_type": "code",
   "execution_count": null,
   "id": "funny-candle",
   "metadata": {},
   "outputs": [],
   "source": [
    "# import time\n",
    "\n",
    "# start = time.time()\n",
    "# %run run_surv --dataset dataset/test.csv --feature dataset/features.txt --cancer dataset/cancers.txt --imputation mean --test_rate 0.2 --tasks thyroid STOMA --model pl_mtl_lstm --batch_size 512 --n_epochs 1 --n_trials 1\n",
    "# end = time.time()\n",
    "# end - start\n"
   ]
  },
  {
   "cell_type": "code",
   "execution_count": 3,
   "id": "looking-harbor",
   "metadata": {},
   "outputs": [
    {
     "name": "stdout",
     "output_type": "stream",
     "text": [
      "start 1th trial\n",
      "0:\t[2s / 2s],\t\n",
      "1:\t[2s / 5s],\t\n",
      "2:\t[2s / 8s],\t\n",
      "3:\t[2s / 11s],\t\n",
      "4:\t[2s / 13s],\t\n",
      "5:\t[2s / 16s],\t\n",
      "6:\t[2s / 19s],\t\n",
      "7:\t[2s / 22s],\t\n",
      "8:\t[2s / 24s],\t\n",
      "9:\t[2s / 27s],\t\n",
      "Namespace(batch_size=512, by_sex=True, cancer='dataset/cancers.txt', dataset='test.csv', feature='dataset/features.txt', imputation='mean', model='deepsurv', n_epochs=3, n_trials=2, second_feature=True, target_cancer='thyroid', tasks=None, test_rate=0.2) \ttest: 0.5003532232793224\n",
      "start 2th trial\n",
      "0:\t[2s / 2s],\t\n",
      "1:\t[2s / 4s],\t\n",
      "2:\t[2s / 7s],\t\n",
      "3:\t[2s / 9s],\t\n",
      "4:\t[2s / 12s],\t\n",
      "5:\t[2s / 14s],\t\n",
      "6:\t[2s / 17s],\t\n",
      "7:\t[2s / 19s],\t\n",
      "8:\t[2s / 22s],\t\n",
      "9:\t[2s / 24s],\t\n",
      "Namespace(batch_size=512, by_sex=True, cancer='dataset/cancers.txt', dataset='test.csv', feature='dataset/features.txt', imputation='mean', model='deepsurv', n_epochs=3, n_trials=2, second_feature=True, target_cancer='thyroid', tasks=None, test_rate=0.2) \ttest: 0.5007704283825483\n"
     ]
    }
   ],
   "source": [
    "%run run_surv --dataset test.csv --feature dataset/features.txt --cancer dataset/cancers.txt --imputation mean --test_rate 0.2 --target_cancer thyroid --model deepsurv --batch_size 512 --n_epochs 3 --n_trials 2"
   ]
  },
  {
   "cell_type": "code",
   "execution_count": 4,
   "id": "exciting-creek",
   "metadata": {},
   "outputs": [
    {
     "name": "stdout",
     "output_type": "stream",
     "text": [
      "start 1th trial\n",
      "Namespace(batch_size=512, by_sex=True, cancer='dataset/cancers.txt', dataset='test.csv', feature='dataset/features.txt', imputation='mean', model='cox', n_epochs=3, n_trials=2, second_feature=True, target_cancer='thyroid', tasks=None, test_rate=0.2) \ttrain: 0.6820230859552538 test: 0.6746558210877014\n",
      "start 2th trial\n",
      "Namespace(batch_size=512, by_sex=True, cancer='dataset/cancers.txt', dataset='test.csv', feature='dataset/features.txt', imputation='mean', model='cox', n_epochs=3, n_trials=2, second_feature=True, target_cancer='thyroid', tasks=None, test_rate=0.2) \ttrain: 0.6813766492599684 test: 0.6756639971255113\n"
     ]
    }
   ],
   "source": [
    "%run run_surv --dataset test.csv --feature dataset/features.txt --cancer dataset/cancers.txt --imputation mean --test_rate 0.2 --target_cancer thyroid --batch_size 512 --n_epochs 3 --n_trials 2"
   ]
  },
  {
   "cell_type": "code",
   "execution_count": 2,
   "id": "athletic-scenario",
   "metadata": {},
   "outputs": [],
   "source": [
    "# %run run_surv --dataset test.csv --feature dataset/features.txt --cancer dataset/cancers.txt --imputation mean --test_rate 0.2 --target_cancer thyroid --model pl_lstm --batch_size 512 --n_epochs 1 --n_trials 1"
   ]
  },
  {
   "cell_type": "code",
   "execution_count": 1,
   "id": "right-dakota",
   "metadata": {},
   "outputs": [],
   "source": [
    "# %run run_surv --dataset test.csv --feature dataset/features.txt --cancer dataset/cancers.txt --imputation regression --test_rate 0.2 --target_cancer thyroid --batch_size 512 --n_epochs 3 --n_trials 2"
   ]
  },
  {
   "cell_type": "code",
   "execution_count": null,
   "id": "aerial-liberal",
   "metadata": {},
   "outputs": [],
   "source": [
    "import time\n",
    "start = time.time()\n",
    "%run run_surv --dataset dataset/ba8.csv --feature dataset/features.txt --cancer dataset/cancers_new.txt --imputation mean --test_rate 0.2 --tasks THROI STOMA --model pl_mtl_lstm --batch_size 1024 --n_epochs 1 --n_trials 1 --new True\n",
    "end = time.time()\n",
    "print(end-start)"
   ]
  },
  {
   "cell_type": "code",
   "execution_count": null,
   "id": "impressed-electric",
   "metadata": {},
   "outputs": [
    {
     "name": "stdout",
     "output_type": "stream",
     "text": [
      "start 1th trial\n"
     ]
    }
   ],
   "source": [
    "import time\n",
    "start = time.time()\n",
    "%run run_surv --dataset dataset/ba8.csv --feature dataset/features.txt --cancer dataset/cancers_new.txt --imputation mean --test_rate 0.2 --tasks THROI STOMA --model mtl_lstm --batch_size 1024 --n_epochs 1 --n_trials 1 --new True\n",
    "end = time.time()\n",
    "print(end-start)"
   ]
  },
  {
   "cell_type": "code",
   "execution_count": null,
   "id": "forced-level",
   "metadata": {},
   "outputs": [],
   "source": []
  }
 ],
 "metadata": {
  "kernelspec": {
   "display_name": "Python 3",
   "language": "python",
   "name": "python3"
  },
  "language_info": {
   "codemirror_mode": {
    "name": "ipython",
    "version": 3
   },
   "file_extension": ".py",
   "mimetype": "text/x-python",
   "name": "python",
   "nbconvert_exporter": "python",
   "pygments_lexer": "ipython3",
   "version": "3.8.10"
  }
 },
 "nbformat": 4,
 "nbformat_minor": 5
}
